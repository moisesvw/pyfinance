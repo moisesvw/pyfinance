{
 "cells": [
  {
   "cell_type": "code",
   "execution_count": 101,
   "metadata": {},
   "outputs": [],
   "source": [
    "import datetime\n",
    "import pandas as pd\n",
    "from matplotlib import pyplot as plt\n",
    "%matplotlib inline"
   ]
  },
  {
   "cell_type": "code",
   "execution_count": 104,
   "metadata": {},
   "outputs": [
    {
     "name": "stdout",
     "output_type": "stream",
     "text": [
      "date_1 2018-03-10 17:09:37.382505\n",
      "date_1 repr datetime.datetime(2018, 3, 10, 17, 9, 37, 382505)\n",
      "<class 'datetime.datetime'>\n",
      "2018-03-10\n",
      "datetime.date(2018, 3, 10)\n",
      "<class 'datetime.date'>\n"
     ]
    }
   ],
   "source": [
    "#date_1 = datetime.datetime.now()\n",
    "date_1 = datetime.datetime(2018, 3, 10, 17, 9, 37, 382505)\n",
    "print(\"date_1\", date_1)\n",
    "print(\"date_1 repr\", date_1.__repr__())\n",
    "print(type(date_1))\n",
    "date_2 = datetime.date.today()\n",
    "date_2 = datetime.date(2018, 3, 10)\n",
    "print(date_2)\n",
    "print(date_2.__repr__())\n",
    "print(type(date_2))"
   ]
  },
  {
   "cell_type": "markdown",
   "metadata": {},
   "source": [
    "#### from datetime.date and datetime.datetime to pandas Timestamp"
   ]
  },
  {
   "cell_type": "code",
   "execution_count": 105,
   "metadata": {},
   "outputs": [
    {
     "name": "stdout",
     "output_type": "stream",
     "text": [
      "2018-03-10 17:09:37.382505\n",
      "2018-03-10 17:09:37.382505\n"
     ]
    }
   ],
   "source": [
    "print(pd.Timestamp(date_1))\n",
    "print(pd.to_datetime(date_1))"
   ]
  },
  {
   "cell_type": "code",
   "execution_count": 106,
   "metadata": {},
   "outputs": [
    {
     "name": "stdout",
     "output_type": "stream",
     "text": [
      "1993-06-07 15:16:00\n"
     ]
    },
    {
     "data": {
      "text/plain": [
       "Timestamp('1993-06-07 15:16:00')"
      ]
     },
     "execution_count": 106,
     "metadata": {},
     "output_type": "execute_result"
    }
   ],
   "source": [
    "date_3 = pd.Timestamp(1993, 6, 7, 15, 16, 0)\n",
    "print(date_3)\n",
    "date_3"
   ]
  },
  {
   "cell_type": "markdown",
   "metadata": {},
   "source": [
    "### .normalize\n",
    "\n",
    "Normalizing in the context of datetimes means stripping all of the time in- formation and just leaving the date bits attached to the object. If everything is in a Timestamp this is trivial:"
   ]
  },
  {
   "cell_type": "code",
   "execution_count": 107,
   "metadata": {},
   "outputs": [
    {
     "name": "stdout",
     "output_type": "stream",
     "text": [
      "2018-03-10 17:09:37.382505\n",
      "2018-03-10 17:09:37.382505\n",
      "2018-03-10 00:00:00\n"
     ]
    }
   ],
   "source": [
    "print(date_1)\n",
    "date_1 = pd.Timestamp(date_1)\n",
    "print(date_1)\n",
    "print(date_1.normalize())"
   ]
  },
  {
   "cell_type": "markdown",
   "metadata": {},
   "source": [
    "### Horizon\n",
    "\n",
    "https://en.wikipedia.org/wiki/ISO_8601"
   ]
  },
  {
   "cell_type": "code",
   "execution_count": 124,
   "metadata": {},
   "outputs": [
    {
     "name": "stdout",
     "output_type": "stream",
     "text": [
      "2018-03-10 00:00:00\n",
      "timedelta: 365 days, 0:00:00\n",
      "2019-03-10 00:00:00\n"
     ]
    }
   ],
   "source": [
    "t_ = datetime.datetime(2018, 3, 10, 17, 9, 37, 382505)\n",
    "TODAY = pd.Timestamp(t_).normalize()\n",
    "print(TODAY)\n",
    "print('timedelta:', datetime.timedelta(days=365))\n",
    "END = TODAY + datetime.timedelta(days=365)\n",
    "print(END)"
   ]
  },
  {
   "cell_type": "code",
   "execution_count": 132,
   "metadata": {},
   "outputs": [
    {
     "name": "stdout",
     "output_type": "stream",
     "text": [
      "TODAY: 2018-03-10 00:00:00\n",
      "END: 2018-09-07 00:00:00\n"
     ]
    }
   ],
   "source": [
    "# TODAY = pd.Timestamp('2018-06-01').normalize()\n",
    "END = pd.Timestamp('2018-09-07').normalize()\n",
    "print(\"TODAY:\", TODAY)\n",
    "print(\"END:\", END)"
   ]
  },
  {
   "cell_type": "code",
   "execution_count": 133,
   "metadata": {},
   "outputs": [
    {
     "name": "stdout",
     "output_type": "stream",
     "text": [
      "Empty DataFrame\n",
      "Columns: []\n",
      "Index: [2018-03-10 00:00:00, 2018-03-11 00:00:00, 2018-03-12 00:00:00, 2018-03-13 00:00:00, 2018-03-14 00:00:00, 2018-03-15 00:00:00, 2018-03-16 00:00:00, 2018-03-17 00:00:00, 2018-03-18 00:00:00, 2018-03-19 00:00:00]\n"
     ]
    }
   ],
   "source": [
    "calendar = pd.DataFrame(index=pd.date_range(start=TODAY, end=END))\n",
    "print(calendar.head(10))"
   ]
  },
  {
   "cell_type": "markdown",
   "metadata": {},
   "source": [
    "### Flows"
   ]
  },
  {
   "cell_type": "code",
   "execution_count": 134,
   "metadata": {},
   "outputs": [
    {
     "name": "stdout",
     "output_type": "stream",
     "text": [
      "Semi-month End:\n",
      "sm: DatetimeIndex(['2018-03-15', '2018-03-31', '2018-04-15', '2018-04-30',\n",
      "               '2018-05-15', '2018-05-31', '2018-06-15', '2018-06-30',\n",
      "               '2018-07-15', '2018-07-31', '2018-08-15', '2018-08-31'],\n",
      "              dtype='datetime64[ns]', freq='SM-15')\n",
      "\n",
      "\n",
      "Month Start:\n",
      "DatetimeIndex(['2018-04-01', '2018-05-01', '2018-06-01', '2018-07-01',\n",
      "               '2018-08-01', '2018-09-01'],\n",
      "              dtype='datetime64[ns]', freq='MS')\n"
     ]
    }
   ],
   "source": [
    "print('Semi-month End:')\n",
    "sm = pd.date_range(start=TODAY, end=END, freq='SM')\n",
    "print('sm:',sm)\n",
    "print('\\n')\n",
    "print('Month Start:')\n",
    "ms = pd.date_range(start=TODAY, end=END, freq='MS')\n",
    "print(ms)"
   ]
  },
  {
   "cell_type": "code",
   "execution_count": 135,
   "metadata": {},
   "outputs": [
    {
     "name": "stdout",
     "output_type": "stream",
     "text": [
      "            income\n",
      "2018-03-15    1000\n",
      "2018-03-31    1000\n",
      "2018-04-15    1000\n",
      "2018-04-30    1000\n",
      "2018-05-15    1000\n"
     ]
    }
   ],
   "source": [
    "income = pd.DataFrame(\n",
    "    data={'income': 1000},\n",
    "    index=pd.date_range(start=TODAY, end=END, freq='SM'))\n",
    "print(income.head())"
   ]
  },
  {
   "cell_type": "code",
   "execution_count": 136,
   "metadata": {},
   "outputs": [
    {
     "name": "stdout",
     "output_type": "stream",
     "text": [
      "            rent\n",
      "2018-04-01 -1500\n",
      "2018-05-01 -1500\n",
      "2018-06-01 -1500\n",
      "2018-07-01 -1500\n",
      "2018-08-01 -1500\n"
     ]
    }
   ],
   "source": [
    "rent = pd.DataFrame(\n",
    "    data={'rent': -1500},\n",
    "    index=pd.date_range(start=TODAY, end=END, freq='MS')\n",
    ")\n",
    "print(rent.head())"
   ]
  },
  {
   "cell_type": "code",
   "execution_count": 137,
   "metadata": {},
   "outputs": [],
   "source": [
    "#concat to flows rent and income\n",
    "calendar = pd.concat([calendar, income], axis=1).fillna(0)\n",
    "calendar = pd.concat([calendar, rent], axis=1).fillna(0)\n"
   ]
  },
  {
   "cell_type": "code",
   "execution_count": 149,
   "metadata": {},
   "outputs": [
    {
     "data": {
      "text/html": [
       "<div>\n",
       "<style scoped>\n",
       "    .dataframe tbody tr th:only-of-type {\n",
       "        vertical-align: middle;\n",
       "    }\n",
       "\n",
       "    .dataframe tbody tr th {\n",
       "        vertical-align: top;\n",
       "    }\n",
       "\n",
       "    .dataframe thead th {\n",
       "        text-align: right;\n",
       "    }\n",
       "</style>\n",
       "<table border=\"1\" class=\"dataframe\">\n",
       "  <thead>\n",
       "    <tr style=\"text-align: right;\">\n",
       "      <th></th>\n",
       "      <th>income</th>\n",
       "      <th>rent</th>\n",
       "    </tr>\n",
       "  </thead>\n",
       "  <tbody>\n",
       "    <tr>\n",
       "      <th>2018-03-10</th>\n",
       "      <td>0.0</td>\n",
       "      <td>0.0</td>\n",
       "    </tr>\n",
       "    <tr>\n",
       "      <th>2018-03-11</th>\n",
       "      <td>0.0</td>\n",
       "      <td>0.0</td>\n",
       "    </tr>\n",
       "    <tr>\n",
       "      <th>2018-03-12</th>\n",
       "      <td>0.0</td>\n",
       "      <td>0.0</td>\n",
       "    </tr>\n",
       "    <tr>\n",
       "      <th>2018-03-13</th>\n",
       "      <td>0.0</td>\n",
       "      <td>0.0</td>\n",
       "    </tr>\n",
       "    <tr>\n",
       "      <th>2018-03-14</th>\n",
       "      <td>0.0</td>\n",
       "      <td>0.0</td>\n",
       "    </tr>\n",
       "    <tr>\n",
       "      <th>2018-03-15</th>\n",
       "      <td>1000.0</td>\n",
       "      <td>0.0</td>\n",
       "    </tr>\n",
       "  </tbody>\n",
       "</table>\n",
       "</div>"
      ],
      "text/plain": [
       "            income  rent\n",
       "2018-03-10     0.0   0.0\n",
       "2018-03-11     0.0   0.0\n",
       "2018-03-12     0.0   0.0\n",
       "2018-03-13     0.0   0.0\n",
       "2018-03-14     0.0   0.0\n",
       "2018-03-15  1000.0   0.0"
      ]
     },
     "execution_count": 149,
     "metadata": {},
     "output_type": "execute_result"
    }
   ],
   "source": [
    "calendar.head(6)"
   ]
  },
  {
   "cell_type": "code",
   "execution_count": 154,
   "metadata": {},
   "outputs": [
    {
     "data": {
      "text/html": [
       "<div>\n",
       "<style scoped>\n",
       "    .dataframe tbody tr th:only-of-type {\n",
       "        vertical-align: middle;\n",
       "    }\n",
       "\n",
       "    .dataframe tbody tr th {\n",
       "        vertical-align: top;\n",
       "    }\n",
       "\n",
       "    .dataframe thead th {\n",
       "        text-align: right;\n",
       "    }\n",
       "</style>\n",
       "<table border=\"1\" class=\"dataframe\">\n",
       "  <thead>\n",
       "    <tr style=\"text-align: right;\">\n",
       "      <th></th>\n",
       "      <th>income</th>\n",
       "      <th>rent</th>\n",
       "    </tr>\n",
       "  </thead>\n",
       "  <tbody>\n",
       "    <tr>\n",
       "      <th>2018-03-30</th>\n",
       "      <td>0.0</td>\n",
       "      <td>0.0</td>\n",
       "    </tr>\n",
       "    <tr>\n",
       "      <th>2018-03-31</th>\n",
       "      <td>1000.0</td>\n",
       "      <td>0.0</td>\n",
       "    </tr>\n",
       "    <tr>\n",
       "      <th>2018-04-01</th>\n",
       "      <td>0.0</td>\n",
       "      <td>-1500.0</td>\n",
       "    </tr>\n",
       "    <tr>\n",
       "      <th>2018-04-02</th>\n",
       "      <td>0.0</td>\n",
       "      <td>0.0</td>\n",
       "    </tr>\n",
       "  </tbody>\n",
       "</table>\n",
       "</div>"
      ],
      "text/plain": [
       "            income    rent\n",
       "2018-03-30     0.0     0.0\n",
       "2018-03-31  1000.0     0.0\n",
       "2018-04-01     0.0 -1500.0\n",
       "2018-04-02     0.0     0.0"
      ]
     },
     "execution_count": 154,
     "metadata": {},
     "output_type": "execute_result"
    }
   ],
   "source": [
    "calendar.loc[\n",
    "    (calendar.index >= '2018-03-30') &\n",
    "    (calendar.index <= '2018-04-02')\n",
    "]"
   ]
  },
  {
   "cell_type": "code",
   "execution_count": 155,
   "metadata": {},
   "outputs": [],
   "source": [
    "calendar['total'] = calendar.sum(axis=1)\n",
    "calendar['cum_total'] = calendar['total'].cumsum()"
   ]
  },
  {
   "cell_type": "code",
   "execution_count": 157,
   "metadata": {},
   "outputs": [
    {
     "data": {
      "text/html": [
       "<div>\n",
       "<style scoped>\n",
       "    .dataframe tbody tr th:only-of-type {\n",
       "        vertical-align: middle;\n",
       "    }\n",
       "\n",
       "    .dataframe tbody tr th {\n",
       "        vertical-align: top;\n",
       "    }\n",
       "\n",
       "    .dataframe thead th {\n",
       "        text-align: right;\n",
       "    }\n",
       "</style>\n",
       "<table border=\"1\" class=\"dataframe\">\n",
       "  <thead>\n",
       "    <tr style=\"text-align: right;\">\n",
       "      <th></th>\n",
       "      <th>income</th>\n",
       "      <th>rent</th>\n",
       "      <th>total</th>\n",
       "      <th>cum_total</th>\n",
       "    </tr>\n",
       "  </thead>\n",
       "  <tbody>\n",
       "    <tr>\n",
       "      <th>2018-09-03</th>\n",
       "      <td>0.0</td>\n",
       "      <td>0.0</td>\n",
       "      <td>0.0</td>\n",
       "      <td>3000.0</td>\n",
       "    </tr>\n",
       "    <tr>\n",
       "      <th>2018-09-04</th>\n",
       "      <td>0.0</td>\n",
       "      <td>0.0</td>\n",
       "      <td>0.0</td>\n",
       "      <td>3000.0</td>\n",
       "    </tr>\n",
       "    <tr>\n",
       "      <th>2018-09-05</th>\n",
       "      <td>0.0</td>\n",
       "      <td>0.0</td>\n",
       "      <td>0.0</td>\n",
       "      <td>3000.0</td>\n",
       "    </tr>\n",
       "    <tr>\n",
       "      <th>2018-09-06</th>\n",
       "      <td>0.0</td>\n",
       "      <td>0.0</td>\n",
       "      <td>0.0</td>\n",
       "      <td>3000.0</td>\n",
       "    </tr>\n",
       "    <tr>\n",
       "      <th>2018-09-07</th>\n",
       "      <td>0.0</td>\n",
       "      <td>0.0</td>\n",
       "      <td>0.0</td>\n",
       "      <td>3000.0</td>\n",
       "    </tr>\n",
       "  </tbody>\n",
       "</table>\n",
       "</div>"
      ],
      "text/plain": [
       "            income  rent  total  cum_total\n",
       "2018-09-03     0.0   0.0    0.0     3000.0\n",
       "2018-09-04     0.0   0.0    0.0     3000.0\n",
       "2018-09-05     0.0   0.0    0.0     3000.0\n",
       "2018-09-06     0.0   0.0    0.0     3000.0\n",
       "2018-09-07     0.0   0.0    0.0     3000.0"
      ]
     },
     "execution_count": 157,
     "metadata": {},
     "output_type": "execute_result"
    }
   ],
   "source": [
    "calendar.tail()"
   ]
  },
  {
   "cell_type": "code",
   "execution_count": 158,
   "metadata": {},
   "outputs": [
    {
     "data": {
      "text/plain": [
       "<matplotlib.legend.Legend at 0x10b3b6da0>"
      ]
     },
     "execution_count": 158,
     "metadata": {},
     "output_type": "execute_result"
    },
    {
     "data": {
      "image/png": "[encoded data removed]",
      "text/plain": [
       "<matplotlib.figure.Figure at 0x10bb94320>"
      ]
     },
     "metadata": {},
     "output_type": "display_data"
    }
   ],
   "source": [
    "plt.figure(figsize=(10, 5))\n",
    "plt.plot(calendar.index, calendar.total, label='Daily Total')\n",
    "plt.plot(calendar.index, calendar.cum_total, label='Cumulative Total')\n",
    "plt.legend()"
   ]
  },
  {
   "cell_type": "code",
   "execution_count": 160,
   "metadata": {},
   "outputs": [
    {
     "name": "stdout",
     "output_type": "stream",
     "text": [
      "            bank\n",
      "2018-03-10  2000\n"
     ]
    }
   ],
   "source": [
    "bank = pd.DataFrame(\n",
    "    data={ 'bank': 2000},\n",
    "    index=pd.date_range(start=TODAY, end=TODAY)\n",
    ")\n",
    "\n",
    "print(bank)"
   ]
  },
  {
   "cell_type": "code",
   "execution_count": 161,
   "metadata": {},
   "outputs": [],
   "source": [
    "calendar = pd.concat([calendar, bank], axis=1).fillna(0)"
   ]
  },
  {
   "cell_type": "code",
   "execution_count": 162,
   "metadata": {},
   "outputs": [
    {
     "data": {
      "text/plain": [
       "2018-08-28    3500.0\n",
       "2018-08-29    3500.0\n",
       "2018-08-30    3500.0\n",
       "2018-08-31    6500.0\n",
       "2018-09-01       0.0\n",
       "2018-09-02    3000.0\n",
       "2018-09-03    3000.0\n",
       "2018-09-04    3000.0\n",
       "2018-09-05    3000.0\n",
       "2018-09-06    3000.0\n",
       "2018-09-07    3000.0\n",
       "Freq: D, dtype: float64"
      ]
     },
     "execution_count": 162,
     "metadata": {},
     "output_type": "execute_result"
    }
   ],
   "source": [
    "calendar.sum(axis=1).tail(11)"
   ]
  },
  {
   "cell_type": "code",
   "execution_count": 164,
   "metadata": {},
   "outputs": [],
   "source": [
    "def update_totals(df):\n",
    "    if 'total' and 'cum_total' in calendar:\n",
    "        df['total'] = 0\n",
    "        df['cum_total'] = 0\n",
    "    df['total'] = df.sum(axis=1)\n",
    "    df['cum_total'] = df['total'].cumsum()\n",
    "    return df"
   ]
  },
  {
   "cell_type": "code",
   "execution_count": 166,
   "metadata": {},
   "outputs": [],
   "source": [
    "calendar = update_totals(calendar)"
   ]
  },
  {
   "cell_type": "code",
   "execution_count": 167,
   "metadata": {},
   "outputs": [],
   "source": [
    "def plot_budget(df):\n",
    "    plt.figure(figsize=(10, 5))\n",
    "    plt.plot(df.index, df.total, label='Daily Total')\n",
    "    plt.plot(df.index, df.cum_total, label='Cumulative Total')\n",
    "    plt.legend()\n"
   ]
  },
  {
   "cell_type": "code",
   "execution_count": 168,
   "metadata": {},
   "outputs": [
    {
     "data": {
      "image/png": "[encoded data removed]",
      "text/plain": [
       "<matplotlib.figure.Figure at 0x10bb10198>"
      ]
     },
     "metadata": {},
     "output_type": "display_data"
    }
   ],
   "source": [
    "plot_budget(calendar)"
   ]
  },
  {
   "cell_type": "code",
   "execution_count": 169,
   "metadata": {},
   "outputs": [
    {
     "name": "stdout",
     "output_type": "stream",
     "text": [
      "            vacation\n",
      "2018-05-01     -2500\n"
     ]
    }
   ],
   "source": [
    "vacation = pd.DataFrame(\n",
    "    data={'vacation': -2500},\n",
    "    index=[pd.Timestamp('2018-05-01').normalize()]\n",
    ")\n",
    "print(vacation)"
   ]
  },
  {
   "cell_type": "code",
   "execution_count": 170,
   "metadata": {},
   "outputs": [
    {
     "data": {
      "image/png": "[encoded data removed]",
      "text/plain": [
       "<matplotlib.figure.Figure at 0x10ba96198>"
      ]
     },
     "metadata": {},
     "output_type": "display_data"
    }
   ],
   "source": [
    "calendar = pd.concat([calendar, vacation], axis=1).fillna(0)\n",
    "calendar = update_totals(calendar)\n",
    "plot_budget(calendar)"
   ]
  },
  {
   "cell_type": "code",
   "execution_count": 174,
   "metadata": {},
   "outputs": [
    {
     "data": {
      "image/png": "[encoded data removed]",
      "text/plain": [
       "<matplotlib.figure.Figure at 0x10bdc7c50>"
      ]
     },
     "metadata": {},
     "output_type": "display_data"
    }
   ],
   "source": [
    "# calendar.drop('vacation', axis=1)\n",
    "calendar = update_totals(calendar)\n",
    "plot_budget(calendar)"
   ]
  },
  {
   "cell_type": "code",
   "execution_count": null,
   "metadata": {},
   "outputs": [],
   "source": []
  }
 ],
 "metadata": {
  "kernelspec": {
   "display_name": "Python 3",
   "language": "python",
   "name": "python3"
  },
  "language_info": {
   "codemirror_mode": {
    "name": "ipython",
    "version": 3
   },
   "file_extension": ".py",
   "mimetype": "text/x-python",
   "name": "python",
   "nbconvert_exporter": "python",
   "pygments_lexer": "ipython3",
   "version": "3.6.4"
  }
 },
 "nbformat": 4,
 "nbformat_minor": 2
}
