{
 "cells": [
  {
   "cell_type": "markdown",
   "metadata": {},
   "source": [
    "## Investment"
   ]
  },
  {
   "cell_type": "code",
   "execution_count": 55,
   "metadata": {},
   "outputs": [
    {
     "data": {
      "text/plain": [
       "True"
      ]
     },
     "execution_count": 55,
     "metadata": {},
     "output_type": "execute_result"
    }
   ],
   "source": [
    "import pandas as pd\n",
    "import numpy as np\n",
    "import requests\n",
    "import os\n",
    "from dotenv import load_dotenv, find_dotenv\n",
    "load_dotenv(find_dotenv())"
   ]
  },
  {
   "cell_type": "code",
   "execution_count": 38,
   "metadata": {},
   "outputs": [
    {
     "name": "stdout",
     "output_type": "stream",
     "text": [
      "      allocation        date  market_value  price  shares  target\n",
      "AMZN           0  2018-01-01             0    NaN       0     0.4\n",
      "CSCO           0  2018-01-01             0    NaN       0     0.3\n",
      "GE             0  2018-01-01             0    NaN       0     0.3\n",
      "CASH           1  2018-01-01         10000    1.0   10000     0.0\n"
     ]
    }
   ],
   "source": [
    "targets = {\n",
    "    'AMZN': 0.40, # Amazon\n",
    "    'CSCO': 0.30, # Cisco\n",
    "    'GE': 0.30 # GE\n",
    "}\n",
    "\n",
    "portfolio = pd.DataFrame(\n",
    "    index=list(targets.keys()) + ['CASH'],\n",
    "    data={\n",
    "        'date': '2018-01-01',\n",
    "        'price': [np.NaN, np.NaN, np.NaN, 1],\n",
    "        'target': [0.4, 0.3, 0.3, 0],\n",
    "        'allocation': [0, 0, 0, 1],\n",
    "        'shares': [0, 0, 0, 10000],\n",
    "        'market_value': [0, 0, 0, 10000]\n",
    "    }\n",
    ")\n",
    "\n",
    "print(portfolio)"
   ]
  },
  {
   "cell_type": "code",
   "execution_count": 39,
   "metadata": {},
   "outputs": [],
   "source": [
    "def instantiate_portfolio(targets, starting_balance):\n",
    "    targets['CASH'] = 0\n",
    "    tickers = list(targets.keys())\n",
    "    df = pd.DataFrame(\n",
    "        index=tickers,\n",
    "        columns=[\n",
    "            'date', 'price', 'target',\n",
    "            'allocation', 'shares', 'market_value'\n",
    "        ]\n",
    "    )\n",
    "    \n",
    "    df.shares = 0\n",
    "    df.market_value = 0\n",
    "    df.allocation = 0\n",
    "    df.update(\n",
    "        pd.DataFrame\n",
    "            .from_dict(targets, orient='index')\n",
    "            .rename(columns={0: 'target'})\n",
    "    )\n",
    "    \n",
    "    df.at['CASH', 'shares'] = starting_balance\n",
    "    \n",
    "    return df"
   ]
  },
  {
   "cell_type": "code",
   "execution_count": 82,
   "metadata": {},
   "outputs": [],
   "source": [
    "portfolio = instantiate_portfolio(\n",
    "    {\n",
    "        'AMZN': 0.40, # Amazon\n",
    "        'CSCO': 0.30, # Cisco\n",
    "        'GE': 0.30 # GE\n",
    "    },\n",
    "    50000\n",
    ")"
   ]
  },
  {
   "cell_type": "code",
   "execution_count": 83,
   "metadata": {},
   "outputs": [
    {
     "name": "stdout",
     "output_type": "stream",
     "text": [
      "     date price target  allocation  shares  market_value\n",
      "AMZN  NaN   NaN    0.4           0       0             0\n",
      "CSCO  NaN   NaN    0.3           0       0             0\n",
      "GE    NaN   NaN    0.3           0       0             0\n",
      "CASH  NaN   NaN      0           0   50000             0\n"
     ]
    }
   ],
   "source": [
    "print(portfolio)"
   ]
  },
  {
   "cell_type": "code",
   "execution_count": 42,
   "metadata": {},
   "outputs": [
    {
     "name": "stdout",
     "output_type": "stream",
     "text": [
      "{'AMZN': 0.4, 'CSCO': 0.3, 'GE': 0.3}\n"
     ]
    }
   ],
   "source": [
    "print(targets)"
   ]
  },
  {
   "cell_type": "code",
   "execution_count": 43,
   "metadata": {},
   "outputs": [
    {
     "data": {
      "text/plain": [
       "['AMZN', 'CSCO', 'GE']"
      ]
     },
     "execution_count": 43,
     "metadata": {},
     "output_type": "execute_result"
    }
   ],
   "source": [
    "list(targets.keys())"
   ]
  },
  {
   "cell_type": "code",
   "execution_count": 44,
   "metadata": {},
   "outputs": [
    {
     "name": "stdout",
     "output_type": "stream",
     "text": [
      "        0\n",
      "AMZN  0.4\n",
      "CSCO  0.3\n",
      "GE    0.3\n"
     ]
    }
   ],
   "source": [
    "print(pd.DataFrame.from_dict(targets, orient='index'))\n"
   ]
  },
  {
   "cell_type": "code",
   "execution_count": 45,
   "metadata": {},
   "outputs": [],
   "source": [
    "def update_prices(portfolio, prices):\n",
    "    prices['CASH'] = 1\n",
    "    portfolio.update(pd.DataFrame({'price': prices}))\n",
    "    portfolio.date = prices.name\n",
    "    portfolio.market_value = portfolio.shares * portfolio.price\n"
   ]
  },
  {
   "cell_type": "code",
   "execution_count": 46,
   "metadata": {},
   "outputs": [
    {
     "name": "stdout",
     "output_type": "stream",
     "text": [
      "AMZN    945.21\n",
      "CSCO     30.52\n",
      "GE       29.27\n",
      "Name: 2018-01-01, dtype: float64\n"
     ]
    }
   ],
   "source": [
    "prices = pd.Series(\n",
    "    name='2018-01-01',\n",
    "    data={'AMZN': 945.21,'CSCO': 30.52, 'GE': 29.27}\n",
    ")\n",
    "print(prices)\n",
    "update_prices(portfolio, prices)"
   ]
  },
  {
   "cell_type": "code",
   "execution_count": 47,
   "metadata": {},
   "outputs": [
    {
     "name": "stdout",
     "output_type": "stream",
     "text": [
      "            date   price target  allocation  shares market_value\n",
      "AMZN  2018-01-01  945.21    0.4           0       0            0\n",
      "CSCO  2018-01-01   30.52    0.3           0       0            0\n",
      "GE    2018-01-01   29.27    0.3           0       0            0\n",
      "CASH  2018-01-01       1      0           0   10000        10000\n"
     ]
    }
   ],
   "source": [
    "print(portfolio)"
   ]
  },
  {
   "cell_type": "code",
   "execution_count": 48,
   "metadata": {},
   "outputs": [],
   "source": [
    "def get_order(portfolio):\n",
    "    total_value = portfolio.market_value.sum()\n",
    "    order = (\n",
    "            (total_value * portfolio.target // portfolio.price)\n",
    "            - portfolio.shares\n",
    "    ).drop('CASH')\n",
    "    return order\n",
    "\n",
    "def deposit(portfolio, amount):\n",
    "    portfolio.at['CASH', 'shares'] += amount\n",
    "    portfolio.at['CASH', 'market_value'] = portfolio.at['CASH', 'shares']"
   ]
  },
  {
   "cell_type": "code",
   "execution_count": 49,
   "metadata": {},
   "outputs": [],
   "source": [
    "deposit(portfolio, 1000)"
   ]
  },
  {
   "cell_type": "code",
   "execution_count": 50,
   "metadata": {},
   "outputs": [
    {
     "name": "stdout",
     "output_type": "stream",
     "text": [
      "AMZN      4\n",
      "CSCO    108\n",
      "GE      112\n",
      "dtype: object\n"
     ]
    }
   ],
   "source": [
    "order = get_order(portfolio)\n",
    "print(order)"
   ]
  },
  {
   "cell_type": "code",
   "execution_count": 51,
   "metadata": {},
   "outputs": [],
   "source": [
    "def simulate_process_order(portfolio, order):\n",
    "    starting_cash = portfolio.at['CASH', 'shares']\n",
    "    cash_adjustment = np.sum(order * portfolio.price)\n",
    "    portfolio.shares += order\n",
    "    portfolio.market_value = portfolio.shares * portfolio.price\n",
    "    portfolio.at['CASH', 'shares'] = starting_cash - cash_adjustment\n",
    "    portfolio.market_value = portfolio.shares * portfolio.price\n",
    "    portfolio.allocation = (\n",
    "        portfolio.market_value / portfolio.market_value.sum()\n",
    "    )\n"
   ]
  },
  {
   "cell_type": "code",
   "execution_count": 52,
   "metadata": {},
   "outputs": [
    {
     "name": "stdout",
     "output_type": "stream",
     "text": [
      "            date   price target allocation  shares market_value\n",
      "AMZN  2018-01-01  945.21    0.4   0.343713       4      3780.84\n",
      "CSCO  2018-01-01   30.52    0.3   0.299651     108      3296.16\n",
      "GE    2018-01-01   29.27    0.3   0.298022     112      3278.24\n",
      "CASH  2018-01-01       1      0  0.0586145  644.76       644.76\n"
     ]
    }
   ],
   "source": [
    "simulate_process_order(portfolio, order)\n",
    "print(portfolio)"
   ]
  },
  {
   "cell_type": "markdown",
   "metadata": {},
   "source": [
    "Working with API for extract Stock Quotes"
   ]
  },
  {
   "cell_type": "code",
   "execution_count": 56,
   "metadata": {},
   "outputs": [],
   "source": [
    "API_KEY = os.environ.get('AV_KEY')\n",
    "TODAY = pd.Timestamp.today().normalize()"
   ]
  },
  {
   "cell_type": "code",
   "execution_count": 57,
   "metadata": {},
   "outputs": [],
   "source": [
    "def get_price(ticker, outputsize='compact', most_recent=False):\n",
    "    URL = 'https://www.alphavantage.co/query?'\n",
    "    payload = {\n",
    "        'function': 'TIME_SERIES_DAILY_ADJUSTED',\n",
    "        'symbol': ticker,\n",
    "        'apikey': API_KEY,\n",
    "        'outputsize': outputsize\n",
    "    }\n",
    "    \n",
    "    r = requests.get(URL, params=payload)\n",
    "    p = pd.DataFrame(r.json()['Time Series (Daily)']).T['4. close']\n",
    "    df = pd.DataFrame({ticker: p.apply(float)})\n",
    "    df.index = pd.to_datetime(df.index)\n",
    "    if most_recent:\n",
    "        return df.tail(1)\n",
    "    return df"
   ]
  },
  {
   "cell_type": "code",
   "execution_count": 59,
   "metadata": {},
   "outputs": [
    {
     "name": "stdout",
     "output_type": "stream",
     "text": [
      "               AMZN\n",
      "2018-04-12  1448.50\n",
      "2018-04-13  1430.79\n",
      "2018-04-16  1441.50\n",
      "2018-04-17  1503.83\n",
      "2018-04-18  1527.84\n"
     ]
    }
   ],
   "source": [
    "print(get_price('AMZN').tail()[:10])"
   ]
  },
  {
   "cell_type": "code",
   "execution_count": 66,
   "metadata": {},
   "outputs": [],
   "source": [
    "def get_historical(tickers, start_date, end_date):\n",
    "    df = pd.DataFrame(index=pd.date_range(start_date, end_date, freq='D'))\n",
    "    for t in tickers:\n",
    "        df = pd.concat([\n",
    "            df,\n",
    "            get_price(t, outputsize='full')],\n",
    "        axis=1,\n",
    "        join_axes=[df.index]\n",
    "        )\n",
    "    df = df.fillna(method='ffill').dropna()\n",
    "    return df"
   ]
  },
  {
   "cell_type": "code",
   "execution_count": 67,
   "metadata": {},
   "outputs": [],
   "source": [
    "historical_prices = get_historical(\n",
    "    tickers=['AMZN', 'CSCO', 'GE'],\n",
    "    start_date=pd.Timestamp(2016, 1, 1),\n",
    "    end_date=TODAY\n",
    ")"
   ]
  },
  {
   "cell_type": "code",
   "execution_count": 68,
   "metadata": {},
   "outputs": [
    {
     "name": "stdout",
     "output_type": "stream",
     "text": [
      "               AMZN   CSCO     GE\n",
      "2018-04-09  1406.08  41.17  12.83\n",
      "2018-04-10  1436.22  42.51  13.05\n",
      "2018-04-11  1427.05  42.43  12.97\n",
      "2018-04-12  1448.50  43.34  13.18\n",
      "2018-04-13  1430.79  43.00  13.49\n",
      "2018-04-14  1430.79  43.00  13.49\n",
      "2018-04-15  1430.79  43.00  13.49\n",
      "2018-04-16  1441.50  43.30  13.33\n",
      "2018-04-17  1503.83  44.59  13.79\n",
      "2018-04-18  1503.83  44.59  13.79\n"
     ]
    }
   ],
   "source": [
    "print(historical_prices.tail(10))"
   ]
  },
  {
   "cell_type": "code",
   "execution_count": 86,
   "metadata": {},
   "outputs": [
    {
     "data": {
      "text/plain": [
       "AMZN    596.38\n",
       "CSCO     23.37\n",
       "GE       28.24\n",
       "Name: 2016-01-24 00:00:00, dtype: float64"
      ]
     },
     "execution_count": 86,
     "metadata": {},
     "output_type": "execute_result"
    }
   ],
   "source": [
    "prices = historical_prices.loc['2016-01-24']\n",
    "prices"
   ]
  },
  {
   "cell_type": "code",
   "execution_count": 90,
   "metadata": {},
   "outputs": [
    {
     "data": {
      "text/plain": [
       "100000.0"
      ]
     },
     "execution_count": 90,
     "metadata": {},
     "output_type": "execute_result"
    }
   ],
   "source": [
    "portafolio = instantiate_portfolio(targets, 100000.00)\n",
    "prices = historical_prices.loc['2017-06-06']\n",
    "update_prices(portafolio, prices)\n",
    "order = get_order(portafolio)\n",
    "simulate_process_order(portafolio, order)\n",
    "portafolio.market_value.sum()"
   ]
  },
  {
   "cell_type": "code",
   "execution_count": 91,
   "metadata": {},
   "outputs": [
    {
     "name": "stdout",
     "output_type": "stream",
     "text": [
      "           date  price target allocation  shares market_value\n",
      "AMZN 2017-06-06   1003    0.4    0.39117      39        39117\n",
      "CSCO 2017-06-06  31.56    0.3    0.29982     950        29982\n",
      "GE   2017-06-06  27.93    0.3   0.299968    1074      29996.8\n",
      "CASH 2017-06-06      1      0  0.0090418  904.18       904.18\n"
     ]
    }
   ],
   "source": [
    "print(portafolio)\n"
   ]
  },
  {
   "cell_type": "code",
   "execution_count": 97,
   "metadata": {},
   "outputs": [
    {
     "name": "stdout",
     "output_type": "stream",
     "text": [
      "2017-03-31 00:00:00:\n",
      "AMZN     5\n",
      "CSCO   -67\n",
      "GE     -72\n",
      "dtype: object\n",
      "2017-06-30 00:00:00:\n",
      "AMZN    -4\n",
      "CSCO    57\n",
      "GE      88\n",
      "dtype: object\n",
      "2017-09-30 00:00:00:\n",
      "AMZN      0\n",
      "CSCO    -75\n",
      "GE      113\n",
      "dtype: object\n",
      "2017-12-31 00:00:00:\n",
      "AMZN     -6\n",
      "CSCO    -72\n",
      "GE      538\n",
      "dtype: object\n"
     ]
    },
    {
     "data": {
      "text/plain": [
       "101283.26"
      ]
     },
     "execution_count": 97,
     "metadata": {},
     "output_type": "execute_result"
    }
   ],
   "source": [
    "dates = pd.date_range('2017-01-01', '2017-12-31', freq='Q').tolist()\n",
    "for d in dates:\n",
    "    prices = historical_prices.loc[d]\n",
    "    update_prices(portafolio, prices)\n",
    "    order = get_order(portafolio)\n",
    "    print(f'{d}:\\n{order}')\n",
    "    simulate_process_order(portafolio, order)\n",
    "portafolio.market_value.sum()"
   ]
  },
  {
   "cell_type": "code",
   "execution_count": 99,
   "metadata": {},
   "outputs": [
    {
     "name": "stdout",
     "output_type": "stream",
     "text": [
      "           date    price target  allocation  shares market_value\n",
      "AMZN 2017-12-31  1169.47    0.4    0.392582      34        39762\n",
      "CSCO 2017-12-31     38.3    0.3    0.299871     793      30371.9\n",
      "GE   2017-12-31    17.45    0.3    0.299955    1741      30380.4\n",
      "CASH 2017-12-31        1      0  0.00759188  768.93       768.93\n"
     ]
    }
   ],
   "source": [
    "print(portafolio)"
   ]
  },
  {
   "cell_type": "code",
   "execution_count": null,
   "metadata": {},
   "outputs": [],
   "source": []
  }
 ],
 "metadata": {
  "kernelspec": {
   "display_name": "Python 3",
   "language": "python",
   "name": "python3"
  },
  "language_info": {
   "codemirror_mode": {
    "name": "ipython",
    "version": 3
   },
   "file_extension": ".py",
   "mimetype": "text/x-python",
   "name": "python",
   "nbconvert_exporter": "python",
   "pygments_lexer": "ipython3",
   "version": "3.6.4"
  }
 },
 "nbformat": 4,
 "nbformat_minor": 2
}
