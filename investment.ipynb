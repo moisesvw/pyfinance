{
 "cells": [
  {
   "cell_type": "markdown",
   "metadata": {},
   "source": [
    "## Investment"
   ]
  },
  {
   "cell_type": "code",
   "execution_count": 4,
   "metadata": {},
   "outputs": [],
   "source": [
    "import pandas as pd\n",
    "import numpy as np"
   ]
  },
  {
   "cell_type": "code",
   "execution_count": 7,
   "metadata": {},
   "outputs": [
    {
     "name": "stdout",
     "output_type": "stream",
     "text": [
      "      allocation        date  market_value  price  shares  target\n",
      "AMZN           0  2018-01-01             0    NaN       0     0.4\n",
      "CSCO           0  2018-01-01             0    NaN       0     0.3\n",
      "GE             0  2018-01-01             0    NaN       0     0.3\n",
      "CASH           1  2018-01-01         10000    1.0   10000     0.0\n"
     ]
    }
   ],
   "source": [
    "targets = {\n",
    "    'AMZN': 0.40, # Amazon\n",
    "    'CSCO': 0.30, # Cisco\n",
    "    'GE': 0.30 # GE\n",
    "}\n",
    "\n",
    "portfolio = pd.DataFrame(\n",
    "    index=list(targets.keys()) + ['CASH'],\n",
    "    data={\n",
    "        'date': '2018-01-01',\n",
    "        'price': [np.NaN, np.NaN, np.NaN, 1],\n",
    "        'target': [0.4, 0.3, 0.3, 0],\n",
    "        'allocation': [0, 0, 0, 1],\n",
    "        'shares': [0, 0, 0, 10000],\n",
    "        'market_value': [0, 0, 0, 10000]\n",
    "    }\n",
    ")\n",
    "\n",
    "print(portfolio)"
   ]
  },
  {
   "cell_type": "code",
   "execution_count": 16,
   "metadata": {},
   "outputs": [],
   "source": [
    "def instantiate_portfolio(targets, starting_balance):\n",
    "    targets['CASH'] = 0\n",
    "    tickers = list(targets.keys())\n",
    "    df = pd.DataFrame(\n",
    "        index=tickers,\n",
    "        columns=[\n",
    "            'date', 'price', 'target',\n",
    "            'allocation', 'shares', 'market_value'\n",
    "        ]\n",
    "    )\n",
    "    \n",
    "    df.share = 0\n",
    "    df.market_value = 0\n",
    "    df.allocation = 0\n",
    "    df.update(\n",
    "        pd.DataFrame\n",
    "            .from_dict(targets, orient='index')\n",
    "            .rename(columns={0: 'target'})\n",
    "    )\n",
    "    \n",
    "    df.at['CASH', 'shares'] = starting_balance\n",
    "    \n",
    "    return df"
   ]
  },
  {
   "cell_type": "code",
   "execution_count": 17,
   "metadata": {},
   "outputs": [],
   "source": [
    "portfolio = instantiate_portfolio(\n",
    "    {\n",
    "        'AMZN': 0.40, # Amazon\n",
    "        'CSCO': 0.30, # Cisco\n",
    "        'GE': 0.30 # GE\n",
    "    },\n",
    "    1000\n",
    ")"
   ]
  },
  {
   "cell_type": "code",
   "execution_count": 18,
   "metadata": {},
   "outputs": [
    {
     "name": "stdout",
     "output_type": "stream",
     "text": [
      "     date price target  allocation shares  market_value\n",
      "AMZN  NaN   NaN    0.4           0    NaN             0\n",
      "CSCO  NaN   NaN    0.3           0    NaN             0\n",
      "GE    NaN   NaN    0.3           0    NaN             0\n",
      "CASH  NaN   NaN      0           0   1000             0\n"
     ]
    }
   ],
   "source": [
    "print(portfolio)"
   ]
  },
  {
   "cell_type": "code",
   "execution_count": 19,
   "metadata": {},
   "outputs": [
    {
     "name": "stdout",
     "output_type": "stream",
     "text": [
      "{'AMZN': 0.4, 'CSCO': 0.3, 'GE': 0.3}\n"
     ]
    }
   ],
   "source": [
    "print(targets)"
   ]
  },
  {
   "cell_type": "code",
   "execution_count": 20,
   "metadata": {},
   "outputs": [
    {
     "data": {
      "text/plain": [
       "['AMZN', 'CSCO', 'GE']"
      ]
     },
     "execution_count": 20,
     "metadata": {},
     "output_type": "execute_result"
    }
   ],
   "source": [
    "list(targets.keys())"
   ]
  },
  {
   "cell_type": "code",
   "execution_count": 21,
   "metadata": {},
   "outputs": [
    {
     "name": "stdout",
     "output_type": "stream",
     "text": [
      "        0\n",
      "AMZN  0.4\n",
      "CSCO  0.3\n",
      "GE    0.3\n"
     ]
    }
   ],
   "source": [
    "print(pd.DataFrame.from_dict(targets, orient='index'))\n"
   ]
  },
  {
   "cell_type": "code",
   "execution_count": null,
   "metadata": {},
   "outputs": [],
   "source": []
  }
 ],
 "metadata": {
  "kernelspec": {
   "display_name": "Python 3",
   "language": "python",
   "name": "python3"
  },
  "language_info": {
   "codemirror_mode": {
    "name": "ipython",
    "version": 3
   },
   "file_extension": ".py",
   "mimetype": "text/x-python",
   "name": "python",
   "nbconvert_exporter": "python",
   "pygments_lexer": "ipython3",
   "version": "3.6.4"
  }
 },
 "nbformat": 4,
 "nbformat_minor": 2
}
