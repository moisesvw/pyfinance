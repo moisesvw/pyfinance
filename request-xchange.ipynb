{
 "cells": [
  {
   "cell_type": "code",
   "execution_count": 40,
   "metadata": {},
   "outputs": [
    {
     "data": {
      "text/plain": [
       "True"
      ]
     },
     "execution_count": 40,
     "metadata": {},
     "output_type": "execute_result"
    }
   ],
   "source": [
    "import os\n",
    "from dotenv import load_dotenv, find_dotenv\n",
    "import requests\n",
    "import pandas as pd\n",
    "import numpy as np\n",
    "load_dotenv(find_dotenv())"
   ]
  },
  {
   "cell_type": "code",
   "execution_count": 9,
   "metadata": {},
   "outputs": [],
   "source": [
    "API_KEY = os.environ.get('OPX_KEY')"
   ]
  },
  {
   "cell_type": "code",
   "execution_count": 11,
   "metadata": {},
   "outputs": [],
   "source": [
    "params = {\n",
    "    'app_id': API_KEY,\n",
    "    'symbols': 'CAD,USD',\n",
    "    'show_alternative': 'true'\n",
    "}\n",
    "r = requests.get(\"https://openexchangerates.org/api/latest.json\", params=params)"
   ]
  },
  {
   "cell_type": "code",
   "execution_count": 14,
   "metadata": {},
   "outputs": [
    {
     "data": {
      "text/plain": [
       "{'CAD': 1.31015, 'USD': 1}"
      ]
     },
     "execution_count": 14,
     "metadata": {},
     "output_type": "execute_result"
    }
   ],
   "source": [
    "rates_ = r.json()['rates']\n",
    "rates_"
   ]
  },
  {
   "cell_type": "code",
   "execution_count": 16,
   "metadata": {},
   "outputs": [
    {
     "data": {
      "text/plain": [
       "2289.8141434186928"
      ]
     },
     "execution_count": 16,
     "metadata": {},
     "output_type": "execute_result"
    }
   ],
   "source": [
    "symbol_from = 'CAD'\n",
    "symbol_to = 'USD'\n",
    "value = 3000\n",
    "value * 1/rates_.get(symbol_from) * rates_.get(symbol_to)"
   ]
  },
  {
   "cell_type": "code",
   "execution_count": 26,
   "metadata": {},
   "outputs": [],
   "source": [
    "class CurrencyConverter:\n",
    "    def __init__(self, symbols, API_KEY):\n",
    "        self.API_KEY = API_KEY\n",
    "        self.symbols = symbols\n",
    "        self.symbols_ = \",\".join([str(s) for s in symbols])\n",
    "        params = {\n",
    "            'app_id': API_KEY,\n",
    "            'symbols': self.symbols_,\n",
    "            'show_alternative': 'true'\n",
    "        }\n",
    "        r = requests.get(\"https://openexchangerates.org/api/latest.json\", params=params)\n",
    "        self.rates_ = r.json()['rates']\n",
    "        self.rates_['USD'] = 1\n",
    "        \n",
    "    def convert(self, value, symbol_from, symbol_to, round_output=True):\n",
    "        try:\n",
    "            x = (value\n",
    "                * 1/self.rates_.get(symbol_from)\n",
    "                * self.rates_.get(symbol_to))\n",
    "            if round_output:\n",
    "                return round(x, 2)\n",
    "            else:\n",
    "                return x\n",
    "        except TypeError as e:\n",
    "            print(e)\n",
    "            print('Unavailable or invalid symbol')\n",
    "            return None"
   ]
  },
  {
   "cell_type": "code",
   "execution_count": 29,
   "metadata": {},
   "outputs": [
    {
     "name": "stdout",
     "output_type": "stream",
     "text": [
      "2289.82\n",
      "6550.72\n"
     ]
    }
   ],
   "source": [
    "API_KEY = os.environ.get(\"OPX_KEY\")\n",
    "c = CurrencyConverter(['CAD', 'USD'], API_KEY)\n",
    "print(c.convert(3000, 'CAD', 'USD'))\n",
    "print(c.convert(5000, 'USD', 'CAD'))"
   ]
  },
  {
   "cell_type": "code",
   "execution_count": 30,
   "metadata": {},
   "outputs": [
    {
     "data": {
      "text/plain": [
       "{'BTC': 0.000128346064,\n",
       " 'CAD': 1.310144,\n",
       " 'DOGE': 320.7432225,\n",
       " 'ETH': 0.0019250019,\n",
       " 'USD': 1}"
      ]
     },
     "execution_count": 30,
     "metadata": {},
     "output_type": "execute_result"
    }
   ],
   "source": [
    "c = CurrencyConverter(['CAD', 'USD', 'DOGE', 'ETH', 'BTC'], API_KEY)\n",
    "c.rates_"
   ]
  },
  {
   "cell_type": "code",
   "execution_count": 34,
   "metadata": {},
   "outputs": [
    {
     "data": {
      "text/plain": [
       "4.41"
      ]
     },
     "execution_count": 34,
     "metadata": {},
     "output_type": "execute_result"
    }
   ],
   "source": [
    "c.convert(3000, 'CAD', 'ETH')"
   ]
  },
  {
   "cell_type": "code",
   "execution_count": 38,
   "metadata": {},
   "outputs": [
    {
     "data": {
      "text/html": [
       "<div>\n",
       "<style scoped>\n",
       "    .dataframe tbody tr th:only-of-type {\n",
       "        vertical-align: middle;\n",
       "    }\n",
       "\n",
       "    .dataframe tbody tr th {\n",
       "        vertical-align: top;\n",
       "    }\n",
       "\n",
       "    .dataframe thead th {\n",
       "        text-align: right;\n",
       "    }\n",
       "</style>\n",
       "<table border=\"1\" class=\"dataframe\">\n",
       "  <thead>\n",
       "    <tr style=\"text-align: right;\">\n",
       "      <th></th>\n",
       "      <th>date</th>\n",
       "      <th>income</th>\n",
       "      <th>expenses</th>\n",
       "      <th>total</th>\n",
       "    </tr>\n",
       "  </thead>\n",
       "  <tbody>\n",
       "    <tr>\n",
       "      <th>0</th>\n",
       "      <td>2017-01-01</td>\n",
       "      <td>40</td>\n",
       "      <td>-3000</td>\n",
       "      <td>-2960</td>\n",
       "    </tr>\n",
       "    <tr>\n",
       "      <th>1</th>\n",
       "      <td>2017-01-25</td>\n",
       "      <td>40</td>\n",
       "      <td>-50</td>\n",
       "      <td>-10</td>\n",
       "    </tr>\n",
       "    <tr>\n",
       "      <th>2</th>\n",
       "      <td>2017-02-12</td>\n",
       "      <td>80</td>\n",
       "      <td>-50</td>\n",
       "      <td>30</td>\n",
       "    </tr>\n",
       "    <tr>\n",
       "      <th>3</th>\n",
       "      <td>2017-02-14</td>\n",
       "      <td>100</td>\n",
       "      <td>-30</td>\n",
       "      <td>70</td>\n",
       "    </tr>\n",
       "    <tr>\n",
       "      <th>4</th>\n",
       "      <td>2017-03-04</td>\n",
       "      <td>100</td>\n",
       "      <td>-20</td>\n",
       "      <td>80</td>\n",
       "    </tr>\n",
       "  </tbody>\n",
       "</table>\n",
       "</div>"
      ],
      "text/plain": [
       "        date  income  expenses  total\n",
       "0 2017-01-01      40     -3000  -2960\n",
       "1 2017-01-25      40       -50    -10\n",
       "2 2017-02-12      80       -50     30\n",
       "3 2017-02-14     100       -30     70\n",
       "4 2017-03-04     100       -20     80"
      ]
     },
     "execution_count": 38,
     "metadata": {},
     "output_type": "execute_result"
    }
   ],
   "source": [
    "df = pd.read_excel('./data/xirr.xlsx', sheet_name='irregular')\n",
    "df['total'] = df.income + df.expenses\n",
    "df.head()"
   ]
  },
  {
   "cell_type": "code",
   "execution_count": 39,
   "metadata": {},
   "outputs": [
    {
     "data": {
      "text/plain": [
       "0    -2259.29\n",
       "1       -7.63\n",
       "2       22.90\n",
       "3       53.43\n",
       "4       61.06\n",
       "5       99.23\n",
       "6       91.59\n",
       "7       76.33\n",
       "8       30.53\n",
       "9      114.49\n",
       "10     244.25\n",
       "11      99.23\n",
       "12     167.92\n",
       "13     282.41\n",
       "14     290.04\n",
       "15     228.98\n",
       "16     244.25\n",
       "17     381.64\n",
       "Name: total, dtype: float64"
      ]
     },
     "execution_count": 39,
     "metadata": {},
     "output_type": "execute_result"
    }
   ],
   "source": [
    "df['total'].apply(lambda x: c.convert(x, 'CAD', 'USD'))"
   ]
  },
  {
   "cell_type": "code",
   "execution_count": 43,
   "metadata": {},
   "outputs": [
    {
     "data": {
      "text/plain": [
       "222.07"
      ]
     },
     "execution_count": 43,
     "metadata": {},
     "output_type": "execute_result"
    }
   ],
   "source": [
    "rate = 0.0575\n",
    "term = 14\n",
    "loan= 3000.0\n",
    "payment = np.round(-np.pmt(rate/12, term, loan), 2)\n",
    "payment"
   ]
  },
  {
   "cell_type": "code",
   "execution_count": 45,
   "metadata": {},
   "outputs": [
    {
     "name": "stdout",
     "output_type": "stream",
     "text": [
      "   balance  month  payment  principal\n",
      "0   3000.0      0      NaN        NaN\n"
     ]
    }
   ],
   "source": [
    "balance = loan\n",
    "df = pd.DataFrame({\n",
    "    'month': [0],\n",
    "    'payment': np.NaN,\n",
    "    'principal': np.NaN,\n",
    "    'balance': [balance]\n",
    "})\n",
    "print(df)"
   ]
  },
  {
   "cell_type": "code",
   "execution_count": 46,
   "metadata": {},
   "outputs": [],
   "source": [
    "interest = round(rate/12 * balance, 2)\n",
    "principal = payment - interest\n",
    "balance = balance - principal"
   ]
  },
  {
   "cell_type": "code",
   "execution_count": 48,
   "metadata": {},
   "outputs": [
    {
     "name": "stdout",
     "output_type": "stream",
     "text": [
      "14.38\n",
      "207.69\n",
      "2792.31\n"
     ]
    }
   ],
   "source": [
    "print(interest)\n",
    "print(principal)\n",
    "print(balance)"
   ]
  },
  {
   "cell_type": "code",
   "execution_count": 51,
   "metadata": {},
   "outputs": [],
   "source": [
    "balance = loan\n",
    "for i in range(1, term + 1):\n",
    "    interest = round(rate/12 * balance, 2)\n",
    "    principal = payment - interest\n",
    "    balance = balance - principal\n",
    "    df = df.append(\n",
    "        pd.DataFrame({\n",
    "            'month': [i],\n",
    "            'payment': [payment],\n",
    "            'interest': [interest],\n",
    "            'principal': [principal],\n",
    "            'balance': [balance]\n",
    "    }) )"
   ]
  },
  {
   "cell_type": "code",
   "execution_count": 52,
   "metadata": {},
   "outputs": [
    {
     "data": {
      "text/html": [
       "<div>\n",
       "<style scoped>\n",
       "    .dataframe tbody tr th:only-of-type {\n",
       "        vertical-align: middle;\n",
       "    }\n",
       "\n",
       "    .dataframe tbody tr th {\n",
       "        vertical-align: top;\n",
       "    }\n",
       "\n",
       "    .dataframe thead th {\n",
       "        text-align: right;\n",
       "    }\n",
       "</style>\n",
       "<table border=\"1\" class=\"dataframe\">\n",
       "  <thead>\n",
       "    <tr style=\"text-align: right;\">\n",
       "      <th></th>\n",
       "      <th>month</th>\n",
       "      <th>payment</th>\n",
       "      <th>interest</th>\n",
       "      <th>principal</th>\n",
       "      <th>balance</th>\n",
       "    </tr>\n",
       "  </thead>\n",
       "  <tbody>\n",
       "    <tr>\n",
       "      <th>0</th>\n",
       "      <td>0</td>\n",
       "      <td>NaN</td>\n",
       "      <td>NaN</td>\n",
       "      <td>NaN</td>\n",
       "      <td>3000.00</td>\n",
       "    </tr>\n",
       "    <tr>\n",
       "      <th>1</th>\n",
       "      <td>1</td>\n",
       "      <td>222.07</td>\n",
       "      <td>14.38</td>\n",
       "      <td>207.69</td>\n",
       "      <td>2792.31</td>\n",
       "    </tr>\n",
       "    <tr>\n",
       "      <th>2</th>\n",
       "      <td>2</td>\n",
       "      <td>222.07</td>\n",
       "      <td>13.38</td>\n",
       "      <td>208.69</td>\n",
       "      <td>2583.62</td>\n",
       "    </tr>\n",
       "    <tr>\n",
       "      <th>3</th>\n",
       "      <td>3</td>\n",
       "      <td>222.07</td>\n",
       "      <td>12.38</td>\n",
       "      <td>209.69</td>\n",
       "      <td>2373.93</td>\n",
       "    </tr>\n",
       "    <tr>\n",
       "      <th>4</th>\n",
       "      <td>4</td>\n",
       "      <td>222.07</td>\n",
       "      <td>11.38</td>\n",
       "      <td>210.69</td>\n",
       "      <td>2163.24</td>\n",
       "    </tr>\n",
       "    <tr>\n",
       "      <th>5</th>\n",
       "      <td>5</td>\n",
       "      <td>222.07</td>\n",
       "      <td>10.37</td>\n",
       "      <td>211.70</td>\n",
       "      <td>1951.54</td>\n",
       "    </tr>\n",
       "    <tr>\n",
       "      <th>6</th>\n",
       "      <td>6</td>\n",
       "      <td>222.07</td>\n",
       "      <td>9.35</td>\n",
       "      <td>212.72</td>\n",
       "      <td>1738.82</td>\n",
       "    </tr>\n",
       "    <tr>\n",
       "      <th>7</th>\n",
       "      <td>7</td>\n",
       "      <td>222.07</td>\n",
       "      <td>8.33</td>\n",
       "      <td>213.74</td>\n",
       "      <td>1525.08</td>\n",
       "    </tr>\n",
       "    <tr>\n",
       "      <th>8</th>\n",
       "      <td>8</td>\n",
       "      <td>222.07</td>\n",
       "      <td>7.31</td>\n",
       "      <td>214.76</td>\n",
       "      <td>1310.32</td>\n",
       "    </tr>\n",
       "    <tr>\n",
       "      <th>9</th>\n",
       "      <td>9</td>\n",
       "      <td>222.07</td>\n",
       "      <td>6.28</td>\n",
       "      <td>215.79</td>\n",
       "      <td>1094.53</td>\n",
       "    </tr>\n",
       "    <tr>\n",
       "      <th>10</th>\n",
       "      <td>10</td>\n",
       "      <td>222.07</td>\n",
       "      <td>5.24</td>\n",
       "      <td>216.83</td>\n",
       "      <td>877.70</td>\n",
       "    </tr>\n",
       "    <tr>\n",
       "      <th>11</th>\n",
       "      <td>11</td>\n",
       "      <td>222.07</td>\n",
       "      <td>4.21</td>\n",
       "      <td>217.86</td>\n",
       "      <td>659.84</td>\n",
       "    </tr>\n",
       "    <tr>\n",
       "      <th>12</th>\n",
       "      <td>12</td>\n",
       "      <td>222.07</td>\n",
       "      <td>3.16</td>\n",
       "      <td>218.91</td>\n",
       "      <td>440.93</td>\n",
       "    </tr>\n",
       "    <tr>\n",
       "      <th>13</th>\n",
       "      <td>13</td>\n",
       "      <td>222.07</td>\n",
       "      <td>2.11</td>\n",
       "      <td>219.96</td>\n",
       "      <td>220.97</td>\n",
       "    </tr>\n",
       "    <tr>\n",
       "      <th>14</th>\n",
       "      <td>14</td>\n",
       "      <td>222.07</td>\n",
       "      <td>1.06</td>\n",
       "      <td>221.01</td>\n",
       "      <td>-0.04</td>\n",
       "    </tr>\n",
       "  </tbody>\n",
       "</table>\n",
       "</div>"
      ],
      "text/plain": [
       "    month  payment  interest  principal  balance\n",
       "0       0      NaN       NaN        NaN  3000.00\n",
       "1       1   222.07     14.38     207.69  2792.31\n",
       "2       2   222.07     13.38     208.69  2583.62\n",
       "3       3   222.07     12.38     209.69  2373.93\n",
       "4       4   222.07     11.38     210.69  2163.24\n",
       "5       5   222.07     10.37     211.70  1951.54\n",
       "6       6   222.07      9.35     212.72  1738.82\n",
       "7       7   222.07      8.33     213.74  1525.08\n",
       "8       8   222.07      7.31     214.76  1310.32\n",
       "9       9   222.07      6.28     215.79  1094.53\n",
       "10     10   222.07      5.24     216.83   877.70\n",
       "11     11   222.07      4.21     217.86   659.84\n",
       "12     12   222.07      3.16     218.91   440.93\n",
       "13     13   222.07      2.11     219.96   220.97\n",
       "14     14   222.07      1.06     221.01    -0.04"
      ]
     },
     "execution_count": 52,
     "metadata": {},
     "output_type": "execute_result"
    }
   ],
   "source": [
    "df = df.reset_index(drop=True)\n",
    "df[['month', 'payment', 'interest', 'principal', 'balance']]"
   ]
  },
  {
   "cell_type": "code",
   "execution_count": 58,
   "metadata": {},
   "outputs": [],
   "source": [
    "balance = loan\n",
    "index = range(0, term + 1)\n",
    "columns = ['month', 'payment', 'interest', 'principal', 'balance']\n",
    "df = pd.DataFrame(index=index, columns=columns)"
   ]
  },
  {
   "cell_type": "code",
   "execution_count": 59,
   "metadata": {},
   "outputs": [],
   "source": [
    "df.iloc[0]['month'] = 0\n",
    "df.iloc[0]['balance'] = balance"
   ]
  },
  {
   "cell_type": "code",
   "execution_count": 60,
   "metadata": {},
   "outputs": [
    {
     "data": {
      "text/html": [
       "<div>\n",
       "<style scoped>\n",
       "    .dataframe tbody tr th:only-of-type {\n",
       "        vertical-align: middle;\n",
       "    }\n",
       "\n",
       "    .dataframe tbody tr th {\n",
       "        vertical-align: top;\n",
       "    }\n",
       "\n",
       "    .dataframe thead th {\n",
       "        text-align: right;\n",
       "    }\n",
       "</style>\n",
       "<table border=\"1\" class=\"dataframe\">\n",
       "  <thead>\n",
       "    <tr style=\"text-align: right;\">\n",
       "      <th></th>\n",
       "      <th>month</th>\n",
       "      <th>payment</th>\n",
       "      <th>interest</th>\n",
       "      <th>principal</th>\n",
       "      <th>balance</th>\n",
       "    </tr>\n",
       "  </thead>\n",
       "  <tbody>\n",
       "    <tr>\n",
       "      <th>0</th>\n",
       "      <td>0</td>\n",
       "      <td>NaN</td>\n",
       "      <td>NaN</td>\n",
       "      <td>NaN</td>\n",
       "      <td>3000</td>\n",
       "    </tr>\n",
       "    <tr>\n",
       "      <th>1</th>\n",
       "      <td>1</td>\n",
       "      <td>222.07</td>\n",
       "      <td>14.38</td>\n",
       "      <td>207.69</td>\n",
       "      <td>2792.31</td>\n",
       "    </tr>\n",
       "    <tr>\n",
       "      <th>2</th>\n",
       "      <td>2</td>\n",
       "      <td>222.07</td>\n",
       "      <td>13.38</td>\n",
       "      <td>208.69</td>\n",
       "      <td>2583.62</td>\n",
       "    </tr>\n",
       "    <tr>\n",
       "      <th>3</th>\n",
       "      <td>3</td>\n",
       "      <td>222.07</td>\n",
       "      <td>12.38</td>\n",
       "      <td>209.69</td>\n",
       "      <td>2373.93</td>\n",
       "    </tr>\n",
       "    <tr>\n",
       "      <th>4</th>\n",
       "      <td>4</td>\n",
       "      <td>222.07</td>\n",
       "      <td>11.38</td>\n",
       "      <td>210.69</td>\n",
       "      <td>2163.24</td>\n",
       "    </tr>\n",
       "    <tr>\n",
       "      <th>5</th>\n",
       "      <td>5</td>\n",
       "      <td>222.07</td>\n",
       "      <td>10.37</td>\n",
       "      <td>211.7</td>\n",
       "      <td>1951.54</td>\n",
       "    </tr>\n",
       "    <tr>\n",
       "      <th>6</th>\n",
       "      <td>6</td>\n",
       "      <td>222.07</td>\n",
       "      <td>9.35</td>\n",
       "      <td>212.72</td>\n",
       "      <td>1738.82</td>\n",
       "    </tr>\n",
       "    <tr>\n",
       "      <th>7</th>\n",
       "      <td>7</td>\n",
       "      <td>222.07</td>\n",
       "      <td>8.33</td>\n",
       "      <td>213.74</td>\n",
       "      <td>1525.08</td>\n",
       "    </tr>\n",
       "    <tr>\n",
       "      <th>8</th>\n",
       "      <td>8</td>\n",
       "      <td>222.07</td>\n",
       "      <td>7.31</td>\n",
       "      <td>214.76</td>\n",
       "      <td>1310.32</td>\n",
       "    </tr>\n",
       "    <tr>\n",
       "      <th>9</th>\n",
       "      <td>9</td>\n",
       "      <td>222.07</td>\n",
       "      <td>6.28</td>\n",
       "      <td>215.79</td>\n",
       "      <td>1094.53</td>\n",
       "    </tr>\n",
       "    <tr>\n",
       "      <th>10</th>\n",
       "      <td>10</td>\n",
       "      <td>222.07</td>\n",
       "      <td>5.24</td>\n",
       "      <td>216.83</td>\n",
       "      <td>877.7</td>\n",
       "    </tr>\n",
       "    <tr>\n",
       "      <th>11</th>\n",
       "      <td>NaN</td>\n",
       "      <td>NaN</td>\n",
       "      <td>NaN</td>\n",
       "      <td>NaN</td>\n",
       "      <td>NaN</td>\n",
       "    </tr>\n",
       "    <tr>\n",
       "      <th>12</th>\n",
       "      <td>NaN</td>\n",
       "      <td>NaN</td>\n",
       "      <td>NaN</td>\n",
       "      <td>NaN</td>\n",
       "      <td>NaN</td>\n",
       "    </tr>\n",
       "    <tr>\n",
       "      <th>13</th>\n",
       "      <td>NaN</td>\n",
       "      <td>NaN</td>\n",
       "      <td>NaN</td>\n",
       "      <td>NaN</td>\n",
       "      <td>NaN</td>\n",
       "    </tr>\n",
       "    <tr>\n",
       "      <th>14</th>\n",
       "      <td>NaN</td>\n",
       "      <td>NaN</td>\n",
       "      <td>NaN</td>\n",
       "      <td>NaN</td>\n",
       "      <td>NaN</td>\n",
       "    </tr>\n",
       "  </tbody>\n",
       "</table>\n",
       "</div>"
      ],
      "text/plain": [
       "   month payment interest principal  balance\n",
       "0      0     NaN      NaN       NaN     3000\n",
       "1      1  222.07    14.38    207.69  2792.31\n",
       "2      2  222.07    13.38    208.69  2583.62\n",
       "3      3  222.07    12.38    209.69  2373.93\n",
       "4      4  222.07    11.38    210.69  2163.24\n",
       "5      5  222.07    10.37     211.7  1951.54\n",
       "6      6  222.07     9.35    212.72  1738.82\n",
       "7      7  222.07     8.33    213.74  1525.08\n",
       "8      8  222.07     7.31    214.76  1310.32\n",
       "9      9  222.07     6.28    215.79  1094.53\n",
       "10    10  222.07     5.24    216.83    877.7\n",
       "11   NaN     NaN      NaN       NaN      NaN\n",
       "12   NaN     NaN      NaN       NaN      NaN\n",
       "13   NaN     NaN      NaN       NaN      NaN\n",
       "14   NaN     NaN      NaN       NaN      NaN"
      ]
     },
     "execution_count": 60,
     "metadata": {},
     "output_type": "execute_result"
    }
   ],
   "source": [
    "for i in range(1, 11):\n",
    "    interest = round(rate/12 * balance, 2)\n",
    "    principal = payment - interest\n",
    "    balance = balance - principal\n",
    "    df.iloc[i]['month'] = i\n",
    "    df.iloc[i]['payment'] = payment\n",
    "    df.iloc[i]['interest'] = interest\n",
    "    df.iloc[i]['principal'] = principal\n",
    "    df.iloc[i]['balance'] = balance\n",
    "df"
   ]
  },
  {
   "cell_type": "code",
   "execution_count": 63,
   "metadata": {},
   "outputs": [],
   "source": [
    "def am(loan, rate, term):\n",
    "    payment = np.round(-np.pmt(rate/12, term, loan), 2)\n",
    "    balance = loan\n",
    "    index = range(0, term + 1)\n",
    "    columns = ['month', 'payment', 'interest', 'principal', 'balance']\n",
    "    df = pd.DataFrame(index=index, columns=columns)\n",
    "    df.iloc[0]['month'] = 0\n",
    "    df.iloc[0]['balance'] = balance\n",
    "    for i in range(1, term + 1):\n",
    "        interest = round(rate/12 * balance, 2)\n",
    "        principal = payment - interest\n",
    "        balance = balance - principal\n",
    "        df.iloc[i]['month'] = i\n",
    "        df.iloc[i]['payment'] = payment\n",
    "        df.iloc[i]['interest'] = interest\n",
    "        df.iloc[i]['principal'] = principal\n",
    "        df.iloc[i]['balance'] = balance\n",
    "    return df"
   ]
  },
  {
   "cell_type": "code",
   "execution_count": 64,
   "metadata": {},
   "outputs": [],
   "source": [
    "loan = 3000\n",
    "gringotts = am(loan, 0.0575, 14)\n",
    "goliath = am(loan, 0.0399, 20)\n",
    "gotham = am(loan, 0.0889,  8)"
   ]
  },
  {
   "cell_type": "code",
   "execution_count": 65,
   "metadata": {},
   "outputs": [
    {
     "name": "stdout",
     "output_type": "stream",
     "text": [
      "100.88\n",
      "105.82999999999997\n",
      "108.93999999999998\n"
     ]
    }
   ],
   "source": [
    "print(gotham['interest'].sum())\n",
    "print(goliath['interest'].sum())\n",
    "print(gringotts['interest'].sum())"
   ]
  },
  {
   "cell_type": "code",
   "execution_count": null,
   "metadata": {},
   "outputs": [],
   "source": []
  }
 ],
 "metadata": {
  "kernelspec": {
   "display_name": "Python 3",
   "language": "python",
   "name": "python3"
  },
  "language_info": {
   "codemirror_mode": {
    "name": "ipython",
    "version": 3
   },
   "file_extension": ".py",
   "mimetype": "text/x-python",
   "name": "python",
   "nbconvert_exporter": "python",
   "pygments_lexer": "ipython3",
   "version": "3.6.4"
  }
 },
 "nbformat": 4,
 "nbformat_minor": 2
}
